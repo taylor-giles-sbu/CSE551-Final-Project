{
 "cells": [
  {
   "cell_type": "code",
   "execution_count": 13,
   "metadata": {},
   "outputs": [],
   "source": [
    "import pandas as pd\n",
    "from datetime import datetime"
   ]
  },
  {
   "cell_type": "code",
   "execution_count": 14,
   "metadata": {},
   "outputs": [
    {
     "name": "stderr",
     "output_type": "stream",
     "text": [
      "/tmp/ipykernel_51542/3788373013.py:9: UserWarning: This pattern is interpreted as a regular expression, and has match groups. To actually get the groups, use str.extract.\n",
      "  elec_gen = elec_gen[elec_gen[\"YYYYMM\"].str.contains(\"[1-2][0-9][0-9][0-9](1[0-2]|0[1-9])\")]\n"
     ]
    }
   ],
   "source": [
    "# Import electricity generation data\n",
    "elec_gen = pd.read_csv('raw/electric_gen.csv')\n",
    "\n",
    "# Only keep rows for Electricity Retail Sales\n",
    "elec_gen = elec_gen[elec_gen.Column_Order == 9]\n",
    "\n",
    "# Only keep rows with valid dates\n",
    "elec_gen[\"YYYYMM\"] = elec_gen.apply(lambda row : str(row[\"YYYYMM\"]), axis=1)\n",
    "elec_gen = elec_gen[elec_gen[\"YYYYMM\"].str.contains(\"[1-2][0-9][0-9][0-9](1[0-2]|0[1-9])\")]\n",
    "\n",
    "# Convert string to date\n",
    "elec_gen[\"Date\"] = elec_gen.apply(lambda row : datetime.strptime(str(row[\"YYYYMM\"]).strip(), \"%Y%m\"), axis=1)\n",
    "elec_gen.set_index(\"Date\", inplace=True)\n",
    "\n",
    "# Drop unneeded columns\n",
    "elec_gen.drop([\"YYYYMM\", \"MSN\", \"Column_Order\", \"Description\", \"Unit\"], axis=1, inplace=True)\n",
    "\n",
    "# Convert values to KWh\n",
    "elec_gen[\"Value\"] = elec_gen.apply(lambda row : (float(row[\"Value\"]) * 1000000000), axis=1)\n"
   ]
  },
  {
   "cell_type": "code",
   "execution_count": 15,
   "metadata": {},
   "outputs": [
    {
     "name": "stderr",
     "output_type": "stream",
     "text": [
      "/tmp/ipykernel_51542/3469050849.py:9: UserWarning: This pattern is interpreted as a regular expression, and has match groups. To actually get the groups, use str.extract.\n",
      "  emissions = emissions[emissions[\"YYYYMM\"].str.contains(\"[1-2][0-9][0-9][0-9](1[0-2]|0[1-9])\")]\n"
     ]
    }
   ],
   "source": [
    "# Import emissions data\n",
    "emissions = pd.read_csv('raw/co2_emissions_from_energy_consumption.csv')\n",
    "\n",
    "# Only keep rows for Electricity Retail Sales\n",
    "emissions = emissions[emissions.Column_Order == 14]\n",
    "\n",
    "# Only keep rows with valid dates\n",
    "emissions[\"YYYYMM\"] = emissions.apply(lambda row : str(row[\"YYYYMM\"]), axis=1)\n",
    "emissions = emissions[emissions[\"YYYYMM\"].str.contains(\"[1-2][0-9][0-9][0-9](1[0-2]|0[1-9])\")]\n",
    "\n",
    "# Convert string to date\n",
    "emissions[\"Date\"] = emissions.apply(lambda row : datetime.strptime(str(row[\"YYYYMM\"]).strip(), \"%Y%m\"), axis=1)\n",
    "emissions.set_index(\"Date\", inplace=True)\n",
    "\n",
    "# Drop unneeded columns\n",
    "emissions.drop([\"YYYYMM\", \"MSN\", \"Column_Order\", \"Description\", \"Unit\"], axis=1, inplace=True)\n",
    "\n",
    "# Convert values to Million Metric Tons of CO2\n",
    "emissions[\"Value\"] = emissions.apply(lambda row : (float(row[\"Value\"]) * 1000000), axis=1)"
   ]
  },
  {
   "cell_type": "code",
   "execution_count": 27,
   "metadata": {},
   "outputs": [
    {
     "name": "stderr",
     "output_type": "stream",
     "text": [
      "/tmp/ipykernel_51542/4006859597.py:9: UserWarning: This pattern is interpreted as a regular expression, and has match groups. To actually get the groups, use str.extract.\n",
      "  elec_cost = elec_cost[elec_cost[\"YYYYMM\"].str.contains(\"[1-2][0-9][0-9][0-9](1[0-2]|0[1-9])\")]\n"
     ]
    }
   ],
   "source": [
    "# Import electricity cost data\n",
    "elec_cost = pd.read_csv('raw/electric_cost.csv')\n",
    "\n",
    "# Only keep rows for Electricity Retail Sales\n",
    "elec_cost = elec_cost[elec_cost.Column_Order == 6]\n",
    "\n",
    "# Only keep rows with valid dates\n",
    "elec_cost[\"YYYYMM\"] = elec_cost.apply(lambda row : str(row[\"YYYYMM\"]), axis=1)\n",
    "elec_cost = elec_cost[elec_cost[\"YYYYMM\"].str.contains(\"[1-2][0-9][0-9][0-9](1[0-2]|0[1-9])\")]\n",
    "\n",
    "# Convert string to date\n",
    "elec_cost[\"Date\"] = elec_cost.apply(lambda row : datetime.strptime(str(row[\"YYYYMM\"]).strip(), \"%Y%m\"), axis=1)\n",
    "elec_cost.set_index(\"Date\", inplace=True)\n",
    "\n",
    "# Drop unneeded columns\n",
    "elec_cost.drop([\"YYYYMM\", \"MSN\", \"Column_Order\", \"Description\", \"Unit\"], axis=1, inplace=True)\n",
    "\n",
    "# Drop NaN values\n",
    "elec_cost = elec_cost[pd.to_numeric(elec_cost[\"Value\"], errors=\"coerce\").notnull()]\n",
    "\n",
    "# Convert values to Dollars per KWh\n",
    "elec_cost[\"Value\"] = elec_cost.apply(lambda row : (float(row[\"Value\"]) / 100), axis=1)\n"
   ]
  }
 ],
 "metadata": {
  "interpreter": {
   "hash": "e7370f93d1d0cde622a1f8e1c04877d8463912d04d973331ad4851f04de6915a"
  },
  "kernelspec": {
   "display_name": "Python 3.10.4 64-bit",
   "language": "python",
   "name": "python3"
  },
  "language_info": {
   "codemirror_mode": {
    "name": "ipython",
    "version": 3
   },
   "file_extension": ".py",
   "mimetype": "text/x-python",
   "name": "python",
   "nbconvert_exporter": "python",
   "pygments_lexer": "ipython3",
   "version": "3.10.4"
  },
  "orig_nbformat": 4
 },
 "nbformat": 4,
 "nbformat_minor": 2
}
